{
 "cells": [
  {
   "cell_type": "markdown",
   "metadata": {},
   "source": [
    "## CEBD 1260 Final Programming Assignment\n",
    "**Student: ** Deyvid William Angioletti Evaristo **ID: ** 6726364 \n",
    "\n",
    "Complete both questions in a single jupyter notebook and upload to github repo in a new directory named \"final\".\n",
    "\n",
    "Answers should include both code and written explanation / interpretation of results. Be sure to answer all parts of the question completely.\n",
    "\n",
    "**1) Your first task to is to classify data from a cancer diagnostic database. In this database are patients with tumors, characteristics of those tumors, and biospy results indicating whether the tumor is Malignant or Benign.**\n",
    "\n",
    "\n",
    "In cancer_data.txt you will find the following variables:\n",
    "\n",
    "   - radius (mean of distances from center to points on the perimeter)\n",
    "   - texture (standard deviation of gray-scale values)\n",
    "   - perimeter\n",
    "   - area\n",
    "   - smoothness (local variation in radius lengths)\n",
    "   - compactness (perimeter^2 / area - 1.0)\n",
    "   - concavity (severity of concave portions of the contour)\n",
    "   - concave_points (number of concave portions of the contour)\n",
    "   - symmetry \n",
    "   - fractal_dimension (\"coastline approximation\" - 1)\n",
    "   - cancer (0 = Benign, 1 = Malignant)  *target*\n",
    "\n",
    "\n",
    "Use any machine learning algorithm you wish. In your answer include a short description of your algorithm of choice and predicted category of a new patient with a tumor with the following features:\n",
    "\n",
    "   - radius: 14\n",
    "   - texture: 14\n",
    "   - perimeter: 88\n",
    "   - area: 566\n",
    "   - smoothness: 1\n",
    "   - compactness: 0.08\n",
    "   - concavity: 0.06\n",
    "   - concae points: 0.04\n",
    "   - symmetry: 0.18\n",
    "   - fractal dimension: 0.05"
   ]
  },
  {
   "cell_type": "code",
   "execution_count": 679,
   "metadata": {},
   "outputs": [],
   "source": [
    "import numpy as np\n",
    "import pandas\n",
    "from sklearn import linear_model\n",
    "from sklearn.metrics import mean_squared_error, r2_score\n",
    "\n",
    "# Load the cancer dataset\n",
    "f = open(\"cancer_data.csv\")\n",
    "f.readline()  # skip the header\n",
    "cancer_data = np.loadtxt(f, delimiter = ',')\n",
    "\n",
    "# Load the test dataset (target not included)\n",
    "f = open(\"cancer_test.csv\")\n",
    "f.readline()  # skip the header\n",
    "cancer_test = np.loadtxt(f, delimiter = ',')\n",
    "cancer_test = cancer_test.reshape(1, -1)"
   ]
  },
  {
   "cell_type": "code",
   "execution_count": 680,
   "metadata": {},
   "outputs": [],
   "source": [
    "# Use 10 variables/features\n",
    "# radius, texture, perimeter, area, smoothness, compactness, concavity, concae points,symmetry, fractal dimension\n",
    "cancer_X = cancer_data[:,:10]\n",
    "\n",
    "# Split the data into training/testing sets (X)\n",
    "cancer_X_train = cancer_X[:]\n",
    "cancer_X_test = cancer_test\n",
    "\n",
    "# Specifying the targets for training set (Y)\n",
    "cancer_y_train = cancer_data[:,10]"
   ]
  },
  {
   "cell_type": "code",
   "execution_count": 681,
   "metadata": {},
   "outputs": [
    {
     "data": {
      "text/plain": [
       "SGDClassifier(alpha=0.0001, average=False, class_weight=None, epsilon=0.1,\n",
       "       eta0=0.0, fit_intercept=True, l1_ratio=0.15,\n",
       "       learning_rate='optimal', loss='log', n_iter=5, n_jobs=1,\n",
       "       penalty='l2', power_t=0.5, random_state=None, shuffle=True,\n",
       "       verbose=0, warm_start=False)"
      ]
     },
     "execution_count": 681,
     "metadata": {},
     "output_type": "execute_result"
    }
   ],
   "source": [
    "# Create a Linear classifier/logistic regression object\n",
    "regr = linear_model.SGDClassifier(loss='log')\n",
    "\n",
    "# Train the model using the training sets\n",
    "regr.fit(cancer_X_train, cancer_y_train)"
   ]
  },
  {
   "cell_type": "code",
   "execution_count": 682,
   "metadata": {},
   "outputs": [],
   "source": [
    "# Make predictions using the testing set\n",
    "cancer_y_pred = regr.predict(cancer_test)"
   ]
  },
  {
   "cell_type": "code",
   "execution_count": 683,
   "metadata": {},
   "outputs": [
    {
     "name": "stdout",
     "output_type": "stream",
     "text": [
      "Coefficients: \n",
      " [[  4.14833507e+03   6.18566597e+03   2.41063996e+04  -2.16961498e+03\n",
      "    3.72265869e+01  -1.95288762e+01  -7.37959053e+01  -3.52752081e+01\n",
      "    7.33272633e+01   3.10334287e+01]]\n"
     ]
    }
   ],
   "source": [
    "# The coefficients\n",
    "print('Coefficients: \\n', regr.coef_)"
   ]
  },
  {
   "cell_type": "code",
   "execution_count": 684,
   "metadata": {},
   "outputs": [
    {
     "name": "stdout",
     "output_type": "stream",
     "text": [
      "Predicted category: \n",
      " [ 1.]\n"
     ]
    }
   ],
   "source": [
    "#Checking predicted category\n",
    "print('Predicted category: \\n',cancer_y_pred) "
   ]
  },
  {
   "cell_type": "markdown",
   "metadata": {},
   "source": [
    "The predicted cancer category is **1 (Malign type of Cancer) ** for a new patient with a tumor with the following features\n",
    "   - radius: 14\n",
    "   - texture: 14\n",
    "   - perimeter: 88\n",
    "   - area: 566\n",
    "   - smoothness: 1\n",
    "   - compactness: 0.08\n",
    "   - concavity: 0.06\n",
    "   - concae points: 0.04\n",
    "   - symmetry: 0.18\n",
    "   - fractal dimension: 0.05"
   ]
  },
  {
   "cell_type": "markdown",
   "metadata": {},
   "source": [
    "\n",
    "**2) The following code contains/**had** 5 bugs (errors). Find and correct them all and then answer the following questions**\n",
    "\n",
    "  1. How many observations are in the training dataset?\n",
    "\n",
    "  2. How many features are in the training dataset?\n",
    "\n",
    "  3. How well did your model perform?\n",
    "\n",
    "**  BONUS: Which category is Hockey? 0 or 1? Which category is baseball? **"
   ]
  },
  {
   "cell_type": "code",
   "execution_count": 685,
   "metadata": {},
   "outputs": [],
   "source": [
    "from sklearn.datasets import fetch_20newsgroups\n",
    "from sklearn.feature_extraction.text import CountVectorizer, TfidfTransformer\n",
    "from sklearn.pipeline import Pipeline\n",
    "from sklearn.linear_model import SGDClassifier\n",
    "\n",
    "categories = [ 'rec.sport.baseball','rec.sport.hockey']\n",
    "twenty_train = fetch_20newsgroups(subset='train', categories=categories)\n",
    "twenty_test = fetch_20newsgroups(subset='test', categories=categories, shuffle=True, random_state=42)\n",
    "\n",
    "text_clf = Pipeline([('vect', CountVectorizer()),\n",
    "                     ('tfidf', TfidfTransformer()),\n",
    "                     ('clf', SGDClassifier(loss='hinge', penalty='l2',\n",
    "                                           alpha=1e-3, random_state=42)),\n",
    "])\n",
    "text_clf.fit(twenty_train.data, twenty_train.target)  \n",
    "predicted = text_clf.predict(twenty_test.data)"
   ]
  },
  {
   "cell_type": "code",
   "execution_count": 686,
   "metadata": {},
   "outputs": [
    {
     "name": "stdout",
     "output_type": "stream",
     "text": [
      "1197\n"
     ]
    }
   ],
   "source": [
    "#Observations in the training dataset\n",
    "print(len(twenty_train.data))"
   ]
  },
  {
   "cell_type": "markdown",
   "metadata": {},
   "source": [
    "** There are 1,197 observations in the training dataset **"
   ]
  },
  {
   "cell_type": "code",
   "execution_count": 687,
   "metadata": {},
   "outputs": [
    {
     "name": "stdout",
     "output_type": "stream",
     "text": [
      "18571\n"
     ]
    }
   ],
   "source": [
    "#How many features are in the training dataset?\n",
    "print(len(text_clf.named_steps['clf'].coef_[0]))"
   ]
  },
  {
   "cell_type": "markdown",
   "metadata": {},
   "source": [
    "** There are 18,571 features in the training dataset **"
   ]
  },
  {
   "cell_type": "code",
   "execution_count": 688,
   "metadata": {},
   "outputs": [
    {
     "name": "stdout",
     "output_type": "stream",
     "text": [
      "Confirming observations/features numbers: \n",
      " (1197, 18571)\n"
     ]
    }
   ],
   "source": [
    "print('Confirming observations/features numbers: \\n', text_clf.named_steps['vect'].fit_transform(twenty_train.data).shape)"
   ]
  },
  {
   "cell_type": "code",
   "execution_count": 689,
   "metadata": {},
   "outputs": [
    {
     "name": "stdout",
     "output_type": "stream",
     "text": [
      "Mean squared error: 0.03\n",
      "Variance score: 0.87\n"
     ]
    }
   ],
   "source": [
    "#How well did your model perform?\n",
    "\n",
    "# The mean squared error\n",
    "print(\"Mean squared error: %.2f\" % mean_squared_error(twenty_test.target, predicted))\n",
    "# Explained variance score: 1 is perfect prediction\n",
    "print('Variance score: %.2f' % r2_score(twenty_test.target, predicted))\n"
   ]
  },
  {
   "cell_type": "markdown",
   "metadata": {},
   "source": [
    "The model performed very well\n",
    " - Mean squared error is low\n",
    " - Variance score is very close to 1"
   ]
  },
  {
   "cell_type": "code",
   "execution_count": 690,
   "metadata": {},
   "outputs": [
    {
     "data": {
      "text/html": [
       "<div>\n",
       "<table border=\"1\" class=\"dataframe\">\n",
       "  <thead>\n",
       "    <tr style=\"text-align: right;\">\n",
       "      <th></th>\n",
       "      <th>0</th>\n",
       "    </tr>\n",
       "  </thead>\n",
       "  <tbody>\n",
       "    <tr>\n",
       "      <th>0</th>\n",
       "      <td>rec.sport.baseball</td>\n",
       "    </tr>\n",
       "    <tr>\n",
       "      <th>1</th>\n",
       "      <td>rec.sport.hockey</td>\n",
       "    </tr>\n",
       "  </tbody>\n",
       "</table>\n",
       "</div>"
      ],
      "text/plain": [
       "                    0\n",
       "0  rec.sport.baseball\n",
       "1    rec.sport.hockey"
      ]
     },
     "execution_count": 690,
     "metadata": {},
     "output_type": "execute_result"
    }
   ],
   "source": [
    "#Which category is Hockey? 0 or 1? Which category is baseball?\n",
    "\n",
    "#Looking at target names within the dataset\n",
    "pandas.DataFrame(twenty_test.target_names)"
   ]
  },
  {
   "cell_type": "code",
   "execution_count": 691,
   "metadata": {},
   "outputs": [
    {
     "name": "stdout",
     "output_type": "stream",
     "text": [
      "Baseball:  [0]\n",
      "Hockey: [1]\n"
     ]
    }
   ],
   "source": [
    "#Using prediction\n",
    "print('Baseball: ',text_clf.predict([\"Baseball\"]))\n",
    "print('Hockey:',text_clf.predict([\"Hockey\"]))"
   ]
  },
  {
   "cell_type": "markdown",
   "metadata": {},
   "source": [
    "** Baseball is category=0 and Hokey is category=1 **"
   ]
  }
 ],
 "metadata": {
  "kernelspec": {
   "display_name": "Python 3",
   "language": "python",
   "name": "python3"
  },
  "language_info": {
   "codemirror_mode": {
    "name": "ipython",
    "version": 3
   },
   "file_extension": ".py",
   "mimetype": "text/x-python",
   "name": "python",
   "nbconvert_exporter": "python",
   "pygments_lexer": "ipython3",
   "version": "3.6.2"
  }
 },
 "nbformat": 4,
 "nbformat_minor": 2
}
